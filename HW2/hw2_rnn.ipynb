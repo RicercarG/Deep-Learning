{
 "cells": [
  {
   "cell_type": "markdown",
   "metadata": {
    "id": "PtcBjMq7YV3f"
   },
   "source": [
    "\n",
    "\n",
    "# Homework 2 - Recurrent Neural Networks"
   ]
  },
  {
   "cell_type": "markdown",
   "metadata": {
    "id": "Rn-cOk1iZTtR"
   },
   "source": [
    "In this part of the homework we are going to work with Recurrent Neural Networks, in particular GRU. One of the greatest things that Recurrent Neural Networks can do when working with sequences is retaining data from several timesteps in the past. We are going to explore that property by constructing an 'echo' Recurrent Neural Network.\n",
    "\n",
    "The goal here is to make a model that given a sequence of letters or digits will output that same sequence, but with a certain delay. Let's say the input is a string 'abacaba', we want the model to not output anything for 3 steps (delay length), and then output the original string step by step, except the last 3 characters. So, target output is then 'XXXabac', where 'X' is empty output.\n",
    "\n",
    "This is similar to [this notebook](https://github.com/Atcold/pytorch-Deep-Learning/blob/master/09-echo_data.ipynb) (which you should refer to when doing this assignment), except we're working not with a binary string, but with a sequence of integers between 0 and some N. In our case N is 26, which is the number of letters in the alphabet."
   ]
  },
  {
   "cell_type": "markdown",
   "metadata": {
    "id": "npLlE973as6x"
   },
   "source": [
    "## Dataset\n",
    "\n",
    "Let's implement the dataset. In our case, the data is basically infinite, as we can always generate more examples on the fly, so there's no need to load it from disk."
   ]
  },
  {
   "cell_type": "code",
   "execution_count": 1,
   "metadata": {
    "id": "mkEEMyvzIMRx"
   },
   "outputs": [],
   "source": [
    "import random\n",
    "import string\n",
    "\n",
    "import torch\n",
    "\n",
    "# Max value of the generated integer. 26 is chosen becuase it's\n",
    "# the number of letters in English alphabet.\n",
    "N = 26\n",
    "\n",
    "\n",
    "def idx_to_onehot(x, k=N+1):\n",
    "  \"\"\" Converts the generated integers to one-hot vectors \"\"\"\n",
    "  ones = torch.sparse.torch.eye(k)\n",
    "  shape = x.shape\n",
    "  res = ones.index_select(0, x.view(-1).type(torch.int64))\n",
    "  return res.view(*shape, res.shape[-1])\n",
    "\n",
    "\n",
    "class EchoDataset(torch.utils.data.IterableDataset):\n",
    "\n",
    "  def __init__(self, delay=4, seq_length=15, size=1000):\n",
    "    self.delay = delay\n",
    "    self.seq_length = seq_length\n",
    "    self.size = size\n",
    "  \n",
    "  def __len__(self):\n",
    "    return self.size\n",
    "\n",
    "  def __iter__(self):\n",
    "    \"\"\" Iterable dataset doesn't have to implement __getitem__.\n",
    "        Instead, we only need to implement __iter__ to return\n",
    "        an iterator (or generator).\n",
    "    \"\"\"\n",
    "    for _ in range(self.size):\n",
    "      seq = torch.tensor([random.choice(range(1, N + 1)) for i in range(self.seq_length)], dtype=torch.int64)\n",
    "      result = torch.cat((torch.zeros(self.delay), seq[:self.seq_length - self.delay])).type(torch.int64)\n",
    "      yield seq, result\n",
    "\n",
    "DELAY = 4\n",
    "DATASET_SIZE = 200000\n",
    "ds = EchoDataset(delay=DELAY, size=DATASET_SIZE)"
   ]
  },
  {
   "cell_type": "markdown",
   "metadata": {
    "id": "nNrZqYURcKSl"
   },
   "source": [
    "## Model\n",
    "\n",
    "Now, we want to implement the model. For our purposes, we want to use GRU. The architecture consists of GRU and a decoder. Decoder is responsible for decoding the GRU hidden state to yield a predicting for the next output. The parts you are responsible for filling with your code are marked with `TODO`. "
   ]
  },
  {
   "cell_type": "code",
   "execution_count": 2,
   "metadata": {},
   "outputs": [
    {
     "name": "stdout",
     "output_type": "stream",
     "text": [
      "tensor([ 1, 17, 23,  3,  5, 24, 24, 22, 20, 26,  8, 21,  4, 11,  2]) torch.Size([15])\n",
      "tensor([ 0,  0,  0,  0,  1, 17, 23,  3,  5, 24, 24, 22, 20, 26,  8]) torch.Size([15])\n"
     ]
    }
   ],
   "source": [
    "for data, target in ds:\n",
    "    print(data, data.size())\n",
    "    print(target, target.size())\n",
    "    break"
   ]
  },
  {
   "cell_type": "code",
   "execution_count": 3,
   "metadata": {
    "id": "nigN_o4Mb9Nx"
   },
   "outputs": [],
   "source": [
    "class GRUMemory(torch.nn.Module):\n",
    "\n",
    "  def __init__(self, hidden_size):\n",
    "    super().__init__()\n",
    "    #TODO: initialize your submodules\n",
    "    self.hidden_size = hidden_size\n",
    "    self.gru = torch.nn.GRU(\n",
    "        input_size=N+1, \n",
    "        hidden_size=hidden_size, \n",
    "        num_layers=1,\n",
    "        batch_first=True\n",
    "    )\n",
    "    \n",
    "    self.decoder = torch.nn.Linear(\n",
    "        in_features=hidden_size,\n",
    "        out_features=N+1\n",
    "    )\n",
    "    self.hidden = None\n",
    "    \n",
    "    \n",
    "  def forward(self, x):\n",
    "    # inputs: x - input tensor of shape (batch_size, seq_length, N+1)\n",
    "    # returns:\n",
    "    # logits (scores for softmax) of shape (batch size, seq_length, N + 1)\n",
    "    # TODO implement forward pass\n",
    "\n",
    "    x, _ = self.gru(x)\n",
    "    logits = self.decoder(x)\n",
    "    return logits\n",
    "    pass\n",
    "\n",
    "  @torch.no_grad()\n",
    "  def test_run(self, s):\n",
    "    # This function accepts one string s containing lowercase characters a-z. \n",
    "    # You need to map those characters to one-hot encodings, \n",
    "    # then get the result from your network, and then convert the output \n",
    "    # back to a string of the same length, with 0 mapped to ' ', \n",
    "    # and 1-26 mapped to a-z.\n",
    "\n",
    "    # TODO\n",
    "    s = torch.tensor([ord(char)-ord('a')+1 for char in s])\n",
    "    one_hot = idx_to_onehot(s).unsqueeze(0).to(device)\n",
    "    \n",
    "    logits = self.forward(one_hot)\n",
    "    _, pred = logits.max(dim=-1)\n",
    "    result = ''.join([chr(idx.item()+ord('a')-1) if idx.item()>0 else ' ' for idx in pred[0]])\n",
    "    return result\n"
   ]
  },
  {
   "cell_type": "markdown",
   "metadata": {
    "id": "A9whwmVu9OIx"
   },
   "source": [
    "## Training\n",
    "Below you need to implement the training of the model. We give you more freedom as for the implementation. The two limitations are that it has to execute within 10 minutes, and that error rate should be below 1%."
   ]
  },
  {
   "cell_type": "code",
   "execution_count": 4,
   "metadata": {
    "id": "lUZkeRnVTNzG"
   },
   "outputs": [],
   "source": [
    "D = DELAY\n",
    "def test_model(model, sequence_length=15):\n",
    "  \"\"\"\n",
    "  This is the test function that runs 100 different strings through your model,\n",
    "  and checks the error rate.\n",
    "  \"\"\"\n",
    "  total = 0\n",
    "  correct = 0\n",
    "  for i in range(500):\n",
    "    s = ''.join([random.choice(string.ascii_lowercase) for i in range(random.randint(15, 25))])\n",
    "    result = model.test_run(s)\n",
    "#     print(f'target: {s}, result: {result}')\n",
    "    for c1, c2 in zip(s[:-D], result[D:]):\n",
    "      correct += int(c1 == c2)\n",
    "    total += len(s) - D\n",
    "\n",
    "  return correct / total"
   ]
  },
  {
   "cell_type": "code",
   "execution_count": 5,
   "metadata": {},
   "outputs": [],
   "source": [
    "from tqdm import tqdm\n",
    "def train():\n",
    "    \n",
    "    batch_size = 32\n",
    "    train_dataloader = torch.utils.data.DataLoader(ds, batch_size=batch_size)\n",
    "    \n",
    "    model.train()\n",
    "\n",
    "    correct = 0\n",
    "    total = 0\n",
    "    \n",
    "    for data, target in tqdm(train_dataloader):\n",
    "        optimizer.zero_grad()\n",
    "        x = idx_to_onehot(data)\n",
    "        t = idx_to_onehot(target)[:, DELAY:]\n",
    "#         t = idx_to_onehot(target)\n",
    "        x, t = x.to(device), t.to(device)\n",
    "    \n",
    "        logits = model(x)[:, DELAY:, :]\n",
    "#         logits = model(x)\n",
    "        loss = criterion(logits, t)\n",
    "        loss.backward()\n",
    "        optimizer.step()\n",
    "    scheduler.step()\n",
    "    \n",
    "    accuracy = test_model(model)\n",
    "    return accuracy, loss.item()\n",
    "        \n",
    "        "
   ]
  },
  {
   "cell_type": "code",
   "execution_count": 6,
   "metadata": {
    "id": "9lV9BscxCCAI",
    "outputId": "fc62ff98-086b-4c2c-d9bc-06c568e48800"
   },
   "outputs": [
    {
     "name": "stderr",
     "output_type": "stream",
     "text": [
      "100%|██████████| 6250/6250 [00:18<00:00, 346.49it/s]\n"
     ]
    },
    {
     "name": "stdout",
     "output_type": "stream",
     "text": [
      "epoch: 1, accuracy: 1.0, loss: 0.117104671895504\n"
     ]
    },
    {
     "name": "stderr",
     "output_type": "stream",
     "text": [
      "100%|██████████| 6250/6250 [00:16<00:00, 368.42it/s]\n"
     ]
    },
    {
     "name": "stdout",
     "output_type": "stream",
     "text": [
      "epoch: 2, accuracy: 0.9998750156230471, loss: 0.09992551058530807\n"
     ]
    },
    {
     "name": "stderr",
     "output_type": "stream",
     "text": [
      "100%|██████████| 6250/6250 [00:16<00:00, 368.49it/s]\n"
     ]
    },
    {
     "name": "stdout",
     "output_type": "stream",
     "text": [
      "epoch: 3, accuracy: 1.0, loss: 0.10654208809137344\n"
     ]
    },
    {
     "name": "stderr",
     "output_type": "stream",
     "text": [
      "100%|██████████| 6250/6250 [00:16<00:00, 368.83it/s]\n"
     ]
    },
    {
     "name": "stdout",
     "output_type": "stream",
     "text": [
      "epoch: 4, accuracy: 0.997531473710195, loss: 0.08404254913330078\n"
     ]
    },
    {
     "name": "stderr",
     "output_type": "stream",
     "text": [
      "100%|██████████| 6250/6250 [00:16<00:00, 368.03it/s]\n"
     ]
    },
    {
     "name": "stdout",
     "output_type": "stream",
     "text": [
      "epoch: 5, accuracy: 0.9998747181157605, loss: 0.09709060192108154\n",
      "tests passed\n"
     ]
    }
   ],
   "source": [
    "import time\n",
    "start_time = time.time()\n",
    "\n",
    "h_units = 128\n",
    "\n",
    "# TODO\n",
    "if torch.cuda.is_available():\n",
    "  device = torch.device(\"cuda:0\")\n",
    "elif torch.backends.mps.is_available():\n",
    "  device = torch.device(\"mps\")\n",
    "else:\n",
    "  device = torch.device(\"cpu\")\n",
    "\n",
    "model = GRUMemory(hidden_size=h_units).to(device)\n",
    "\n",
    "criterion = torch.nn.CrossEntropyLoss()\n",
    "optimizer = torch.optim.RMSprop(model.parameters(), lr=0.001)\n",
    "scheduler = torch.optim.lr_scheduler.StepLR(optimizer=optimizer, step_size=1, gamma=0.8)\n",
    "\n",
    "model = model.to(device)\n",
    "criterion = criterion.to(device)\n",
    "\n",
    "n_epochs = 5\n",
    "for epoch in range(1, n_epochs+1):\n",
    "    accuracy, loss = train()\n",
    "    print(f'epoch: {epoch}, accuracy: {accuracy}, loss: {loss}')\n",
    "\n",
    "# model = model.to('cpu')\n",
    "model.eval()\n",
    "\n",
    "end_time = time.time()\n",
    "duration = end_time - start_time\n",
    "accuracy = test_model(model)\n",
    "assert duration < 600, 'execution took f{duration:.2f} seconds, which longer than 10 mins'\n",
    "assert accuracy > 0.99, f'accuracy is too low, got {accuracy}, need 0.99'\n",
    "print('tests passed')"
   ]
  },
  {
   "cell_type": "markdown",
   "metadata": {
    "id": "sB0EVNBtDhpN"
   },
   "source": [
    "## Variable delay model\n",
    "\n",
    "Now, to make this more complicated, we want to have varialbe delay. So, now, the goal is to transform a sequence of pairs (character, delay) into a character sequence with given delay. Delay is constant within one sequence."
   ]
  },
  {
   "cell_type": "markdown",
   "metadata": {
    "id": "3i_iwX_AEOCH"
   },
   "source": [
    "### Dataset\n",
    "As before, we first implement the dataset:"
   ]
  },
  {
   "cell_type": "code",
   "execution_count": 7,
   "metadata": {
    "id": "E4G5b8kuEUEd"
   },
   "outputs": [],
   "source": [
    "class VariableDelayEchoDataset(torch.utils.data.IterableDataset):\n",
    "\n",
    "  def __init__(self, max_delay=8, seq_length=20, size=1000):\n",
    "    self.max_delay = max_delay\n",
    "    self.seq_length = seq_length\n",
    "    self.size = size\n",
    "  \n",
    "  def __len__(self):\n",
    "    return self.size\n",
    "\n",
    "  def __iter__(self):\n",
    "    for _ in range(self.size):\n",
    "      seq = torch.tensor([random.choice(range(1, N + 1)) for i in range(self.seq_length)], dtype=torch.int64)\n",
    "      delay = random.randint(0, self.max_delay)\n",
    "      result = torch.cat((torch.zeros(delay), seq[:self.seq_length - delay])).type(torch.int64)\n",
    "      yield seq, delay, result"
   ]
  },
  {
   "cell_type": "markdown",
   "metadata": {
    "id": "oTRVOND3HEJZ"
   },
   "source": [
    "### Model\n",
    "\n",
    "And the model."
   ]
  },
  {
   "cell_type": "code",
   "execution_count": 14,
   "metadata": {
    "id": "IYolFIB8Hg0U"
   },
   "outputs": [],
   "source": [
    "class VariableDelayGRUMemory(torch.nn.Module):\n",
    "\n",
    "  def __init__(self, hidden_size, max_delay):\n",
    "    super().__init__()\n",
    "    #TODO\n",
    "    self.max_delay = max_delay\n",
    "    \n",
    "    self.gru = torch.nn.GRU(\n",
    "        input_size=N+1+max_delay+1, #a new dimension for delay\n",
    "        hidden_size=hidden_size, \n",
    "        num_layers=2,\n",
    "        batch_first=True\n",
    "    )\n",
    "    \n",
    "    self.decoder = torch.nn.Linear(\n",
    "        in_features=hidden_size,\n",
    "        out_features=N+1\n",
    "    )\n",
    "\n",
    "  def forward(self, x, delays):\n",
    "    # inputs:\n",
    "    # x - tensor of shape (batch size, seq length, N + 1)\n",
    "    # delays - tensor of shape (batch size)\n",
    "    # returns:\n",
    "    # logits (scores for softmax) of shape (batch size, seq_length, N + 1)\n",
    "    \n",
    "    d_onehot = idx_to_onehot(delays, k=self.max_delay+1)\n",
    "    d_onehot = d_onehot.to(device)\n",
    "    \n",
    "    batch_size, seq_length, _ = x.size()\n",
    "    \n",
    "    x = torch.cat((x, d_onehot.unsqueeze(1).repeat(1, seq_length, 1)), dim=-1)\n",
    "#     print(x.size())\n",
    "\n",
    "    x, _ = self.gru(x)\n",
    "    logits = self.decoder(x)\n",
    "    \n",
    "    return logits\n",
    "    # TODO\n",
    "    pass\n",
    "\n",
    "  @torch.no_grad()\n",
    "  def test_run(self, s, delay):\n",
    "    # This function accepts one string s containing lowercase characters a-z, \n",
    "    # and a delay - the desired output delay.\n",
    "    # You need to map those characters to one-hot encodings, \n",
    "    # then get the result from your network, and then convert the output \n",
    "    # back to a string of the same length, with 0 mapped to ' ', \n",
    "    # and 1-26 mapped to a-z.\n",
    "\n",
    "    # TODO\n",
    "    s = torch.tensor([ord(char)-ord('a')+1 for char in s])\n",
    "    one_hot = idx_to_onehot(s).unsqueeze(0).to(device)\n",
    "    \n",
    "    logits = self.forward(one_hot, torch.tensor(delay).unsqueeze(0))\n",
    "    _, pred = logits.max(dim=-1)\n",
    "    result = ''.join([chr(idx.item()+ord('a')-1) if idx.item()>0 else ' ' for idx in pred[0]])\n",
    "    return result\n",
    "    \n",
    "    pass\n"
   ]
  },
  {
   "cell_type": "markdown",
   "metadata": {
    "id": "riu3qHWgKjsx"
   },
   "source": [
    "### Train\n",
    "\n",
    "As before, you're free to do what you want, as long as training finishes within 10 minutes and accuracy is above 0.99 for delays between 0 and 8."
   ]
  },
  {
   "cell_type": "code",
   "execution_count": 15,
   "metadata": {
    "id": "4FZHojnGO3aw"
   },
   "outputs": [],
   "source": [
    "def test_variable_delay_model(model, seq_length=20):\n",
    "  \"\"\"\n",
    "  This is the test function that runs 100 different strings through your model,\n",
    "  and checks the error rate.\n",
    "  \"\"\"\n",
    "  total = 0\n",
    "  correct = 0\n",
    "  for i in range(500):\n",
    "    s = ''.join([random.choice(string.ascii_lowercase) for i in range(seq_length)])\n",
    "    d = random.randint(0, model.max_delay)\n",
    "    result = model.test_run(s, d)\n",
    "    if d > 0:\n",
    "      z = zip(s[:-d], result[d:])\n",
    "    else:\n",
    "      z = zip(s, result)\n",
    "    for c1, c2 in z:\n",
    "      correct += int(c1 == c2)\n",
    "    total += len(s) - d\n",
    "\n",
    "  return correct / total"
   ]
  },
  {
   "cell_type": "code",
   "execution_count": 16,
   "metadata": {},
   "outputs": [],
   "source": [
    "def train():\n",
    "    \n",
    "    batch_size = 32\n",
    "    train_dataloader = torch.utils.data.DataLoader(ds_delay, batch_size=batch_size)\n",
    "    \n",
    "    model.train()\n",
    "    \n",
    "    for data, delay, target in tqdm(train_dataloader):\n",
    "        optimizer.zero_grad()\n",
    "        x = idx_to_onehot(data)\n",
    "        t = idx_to_onehot(target)\n",
    "        x, t = x.to(device), t.to(device)\n",
    "    \n",
    "        logits = model(x, delay)\n",
    "        loss = criterion(logits, t)\n",
    "        loss.backward()\n",
    "        optimizer.step()\n",
    "    scheduler.step()\n",
    "    \n",
    "    accuracy = test_variable_delay_model(model)\n",
    "    return accuracy, loss.item()"
   ]
  },
  {
   "cell_type": "code",
   "execution_count": 20,
   "metadata": {
    "id": "YJ18Ef6vKi4s"
   },
   "outputs": [
    {
     "name": "stderr",
     "output_type": "stream",
     "text": [
      "100%|██████████| 6250/6250 [00:23<00:00, 264.66it/s]\n"
     ]
    },
    {
     "name": "stdout",
     "output_type": "stream",
     "text": [
      "epoch: 1, accuracy: 0.9765084075173096, loss: 0.48666226863861084\n"
     ]
    },
    {
     "name": "stderr",
     "output_type": "stream",
     "text": [
      "100%|██████████| 6250/6250 [00:23<00:00, 264.56it/s]\n"
     ]
    },
    {
     "name": "stdout",
     "output_type": "stream",
     "text": [
      "epoch: 2, accuracy: 0.9901163518078319, loss: 0.43324175477027893\n"
     ]
    },
    {
     "name": "stderr",
     "output_type": "stream",
     "text": [
      "100%|██████████| 6250/6250 [00:23<00:00, 264.76it/s]\n"
     ]
    },
    {
     "name": "stdout",
     "output_type": "stream",
     "text": [
      "epoch: 3, accuracy: 0.9925655241935484, loss: 0.5323887467384338\n"
     ]
    },
    {
     "name": "stderr",
     "output_type": "stream",
     "text": [
      "100%|██████████| 6250/6250 [00:23<00:00, 264.77it/s]\n"
     ]
    },
    {
     "name": "stdout",
     "output_type": "stream",
     "text": [
      "epoch: 4, accuracy: 0.9937911337389793, loss: 0.5303991436958313\n"
     ]
    },
    {
     "name": "stderr",
     "output_type": "stream",
     "text": [
      "100%|██████████| 6250/6250 [00:23<00:00, 264.81it/s]\n"
     ]
    },
    {
     "name": "stdout",
     "output_type": "stream",
     "text": [
      "epoch: 5, accuracy: 0.9924430128840436, loss: 0.477691650390625\n",
      "tests passed\n"
     ]
    }
   ],
   "source": [
    "import time\n",
    "start_time = time.time()\n",
    "\n",
    "MAX_DELAY = 8\n",
    "SEQ_LENGTH = 20\n",
    "DATASET_SIZE = 200000\n",
    "\n",
    "ds_delay = VariableDelayEchoDataset(MAX_DELAY, SEQ_LENGTH, DATASET_SIZE)\n",
    "\n",
    "# TODO: implement model training here.\n",
    "model = VariableDelayGRUMemory(\n",
    "    hidden_size=256,\n",
    "    max_delay = MAX_DELAY\n",
    ")\n",
    "\n",
    "criterion = torch.nn.CrossEntropyLoss()\n",
    "optimizer = torch.optim.RMSprop(model.parameters(), lr=0.001)\n",
    "scheduler = torch.optim.lr_scheduler.StepLR(optimizer=optimizer, step_size=1, gamma=0.2)\n",
    "\n",
    "model = model.to(device)\n",
    "criterion = criterion.to(device)\n",
    "\n",
    "test_variable_delay_model(model)\n",
    "\n",
    "n_epochs = 5\n",
    "for epoch in range(1, n_epochs+1):\n",
    "    accuracy, loss = train()\n",
    "    print(f'epoch: {epoch}, accuracy: {accuracy}, loss: {loss}')\n",
    "\n",
    "# model = model.to('cpu')\n",
    "model.eval()\n",
    "\n",
    "\n",
    "end_time = time.time()\n",
    "assert end_time - start_time < 600, 'executing took longer than 10 mins'\n",
    "assert test_variable_delay_model(model) > 0.99, 'accuracy is too low'\n",
    "print('tests passed')"
   ]
  },
  {
   "cell_type": "code",
   "execution_count": null,
   "metadata": {},
   "outputs": [],
   "source": []
  }
 ],
 "metadata": {
  "colab": {
   "collapsed_sections": [],
   "provenance": []
  },
  "kernelspec": {
   "display_name": "env_deeplearning",
   "language": "python",
   "name": "env_deeplearning"
  },
  "language_info": {
   "codemirror_mode": {
    "name": "ipython",
    "version": 3
   },
   "file_extension": ".py",
   "mimetype": "text/x-python",
   "name": "python",
   "nbconvert_exporter": "python",
   "pygments_lexer": "ipython3",
   "version": "3.8.18"
  }
 },
 "nbformat": 4,
 "nbformat_minor": 4
}
